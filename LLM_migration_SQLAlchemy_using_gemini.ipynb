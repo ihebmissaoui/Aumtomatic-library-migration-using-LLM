{
  "cells": [
    {
      "cell_type": "markdown",
      "metadata": {
        "id": "Tce3stUlHN0L"
      },
      "source": [
        "# Migration of SQLAlchemy Version 1.4 to version 2 using Gemini dev models"
      ]
    },
    {
      "cell_type": "markdown",
      "metadata": {
        "id": "-QhPWE1lwZHH"
      },
      "source": [
        "we will use Gemini model through exposed API  using the Generativeai Python SDK"
      ]
    },
    {
      "cell_type": "markdown",
      "metadata": {
        "id": "NNNg43Ymw54e"
      },
      "source": [
        "## Prerequisites\n",
        "\n",
        "You can run this tutorial in Google Colab, which doesn't require additional environment configuration.\n"
      ]
    },
    {
      "cell_type": "markdown",
      "source": [
        "## workflow\n",
        "\n",
        "You need just to import the python repository file inside sample_data and then after runing all cells it will generate migrated version inside migration generated folder"
      ],
      "metadata": {
        "id": "-LcfjsdtiCVe"
      }
    },
    {
      "cell_type": "markdown",
      "metadata": {
        "id": "kHkHARdb1ZID"
      },
      "source": [
        "## Install the SDK\n",
        "\n",
        "The Python SDK for the Gemini API is contained in the [`google-generativeai`](https://pypi.org/project/google-generativeai/) package. Install the dependency using pip:"
      ]
    },
    {
      "cell_type": "code",
      "execution_count": 1,
      "metadata": {
        "id": "J6Pd9SFJ1yVi",
        "outputId": "8ba916c4-2182-4dcd-cda3-a6d9d2d0ecb4",
        "colab": {
          "base_uri": "https://localhost:8080/"
        }
      },
      "outputs": [
        {
          "output_type": "stream",
          "name": "stdout",
          "text": [
            "\u001b[?25l   \u001b[90m━━━━━━━━━━━━━━━━━━━━━━━━━━━━━━━━━━━━━━━━\u001b[0m \u001b[32m0.0/165.0 kB\u001b[0m \u001b[31m?\u001b[0m eta \u001b[36m-:--:--\u001b[0m\r\u001b[2K   \u001b[90m━━━━━━━━━━━━━━━━━━━━━━━━━━━━━━━━━━━━━━━━\u001b[0m \u001b[32m165.0/165.0 kB\u001b[0m \u001b[31m8.2 MB/s\u001b[0m eta \u001b[36m0:00:00\u001b[0m\n",
            "\u001b[?25h\u001b[?25l   \u001b[90m━━━━━━━━━━━━━━━━━━━━━━━━━━━━━━━━━━━━━━━━\u001b[0m \u001b[32m0.0/725.4 kB\u001b[0m \u001b[31m?\u001b[0m eta \u001b[36m-:--:--\u001b[0m\r\u001b[2K   \u001b[90m━━━━━━━━━━━━━━━━━━━━━━━━━━━━━━━━━━━━━━━━\u001b[0m \u001b[32m725.4/725.4 kB\u001b[0m \u001b[31m33.8 MB/s\u001b[0m eta \u001b[36m0:00:00\u001b[0m\n",
            "\u001b[?25h"
          ]
        }
      ],
      "source": [
        "!pip install -q -U google-generativeai"
      ]
    },
    {
      "cell_type": "markdown",
      "metadata": {
        "id": "EeMCtmx9ykyx"
      },
      "source": [
        "## Set up your API key\n",
        "\n",
        "To use the Gemini API, you'll need an API key. If you don't already have one, create a key in Google AI Studio.\n",
        "\n",
        "<a class=\"button\" href=\"https://aistudio.google.com/app/apikey\" target=\"_blank\" rel=\"noopener noreferrer\">Get an API key</a>\n",
        "\n",
        "In Colab, add the key to the secrets manager under the \"🔑\" in the left panel. Give it the name `GOOGLE_API_KEY`. Then pass the key to the SDK:"
      ]
    },
    {
      "cell_type": "code",
      "execution_count": 2,
      "metadata": {
        "id": "HTiaTu6O1LRC"
      },
      "outputs": [],
      "source": [
        "# Import the Python SDK\n",
        "import google.generativeai as genai\n",
        "\n",
        "# Used to securely store your API key\n",
        "from google.colab import userdata\n",
        "\n",
        "GOOGLE_API_KEY=userdata.get('GOOGLE_API_KEY')\n",
        "genai.configure(api_key=GOOGLE_API_KEY)"
      ]
    },
    {
      "cell_type": "markdown",
      "source": [
        "# read python code"
      ],
      "metadata": {
        "id": "RYoEzQpTc6qZ"
      }
    },
    {
      "cell_type": "markdown",
      "source": [
        "This function will read the python code into string content to be passed to gemini LLM in it's prompt"
      ],
      "metadata": {
        "id": "17RthfRvii8f"
      }
    },
    {
      "cell_type": "code",
      "source": [
        "def read_python_code(file_path):\n",
        "    with open(file_path, 'r') as file:\n",
        "        code = file.read()\n",
        "    return code\n",
        "\n",
        "# Usage example\n",
        "file_path = '/content/sample_data/user_repository.py'\n",
        "code_string = read_python_code(file_path)\n",
        "#print(code_string)\n"
      ],
      "metadata": {
        "id": "lXS2Mh45c8Lx"
      },
      "execution_count": 5,
      "outputs": []
    },
    {
      "cell_type": "markdown",
      "metadata": {
        "id": "CZPYk29o2No0"
      },
      "source": [
        "# Initialize the Generative Model\n",
        "\n",
        "Before you can make any API calls, you need to initialize the Generative Model."
      ]
    },
    {
      "cell_type": "markdown",
      "source": [
        "we choose the gemini v1 pro\n",
        "\n",
        "Here some available models :\n",
        "\n",
        "# Model Variants Overview\n",
        "\n",
        "This documentation describes various model variants optimized for different tasks. Each model is designed to handle specific input types and produce optimized output.\n",
        "\n",
        "## 1. Gemini 1.5 Flash\n",
        "\n",
        "- **Model Variant:** gemini-1.5-flash\n",
        "- **Input(s):** Audio, images, videos, and text\n",
        "- **Output:** Text\n",
        "- **Optimized for:** Fast and versatile performance across a diverse variety of tasks.\n",
        "\n",
        "---\n",
        "\n",
        "## 2. Gemini 1.5 Pro\n",
        "\n",
        "- **Model Variant:** gemini-1.5-pro\n",
        "- **Input(s):** Audio, images, videos, and text\n",
        "- **Output:** Text\n",
        "- **Optimized for:** Complex reasoning tasks such as code and text generation, text editing, problem solving, data extraction, and generation.\n",
        "\n",
        "---\n",
        "\n",
        "## 3. Gemini 1.0 Pro\n",
        "\n",
        "- **Model Variant:** gemini-1.0-pro\n",
        "- **Input(s):** Text\n",
        "- **Output:** Text\n",
        "- **Optimized for:** Natural language tasks, multi-turn text and code chat, and code generation.\n",
        "\n",
        "---\n",
        "\n",
        "## 4. Text Embedding\n",
        "\n",
        "- **Model Variant:** text-embedding-004\n",
        "- **Input(s):** Text\n",
        "- **Output:** Text embeddings\n",
        "- **Optimized for:** Measuring the relatedness of text strings.\n",
        "\n",
        "---\n",
        "\n",
        "## 5. AQA (Answer Quality Assurance)\n",
        "\n",
        "- **Model Variant:** aqa\n",
        "- **Input(s):** Text\n",
        "- **Output:** Text\n",
        "- **Optimized for:** Providing source-grounded answers to questions.\n"
      ],
      "metadata": {
        "id": "V5ZLmcU1ita8"
      }
    },
    {
      "cell_type": "markdown",
      "source": [
        "Since gemini-1.5-pro has emitted a 500 tornado error due to a request timeout, we will use gemini-1.0-pro and gemini-1.5-flash for comparison in the report."
      ],
      "metadata": {
        "id": "722pjIbGjM3z"
      }
    },
    {
      "cell_type": "markdown",
      "source": [
        "Load the model"
      ],
      "metadata": {
        "id": "WPG1-LsnrGa3"
      }
    },
    {
      "cell_type": "code",
      "execution_count": 6,
      "metadata": {
        "id": "s-JqXcDe2hZ_"
      },
      "outputs": [],
      "source": [
        "model = genai.GenerativeModel('gemini-1.0-pro')"
      ]
    },
    {
      "cell_type": "markdown",
      "metadata": {
        "id": "nXxypzJH4MUl"
      },
      "source": [
        "# Generate text"
      ]
    },
    {
      "cell_type": "markdown",
      "source": [
        "Prepare system prompt"
      ],
      "metadata": {
        "id": "WtfQNWsArN-m"
      }
    },
    {
      "cell_type": "code",
      "source": [
        "migration_instructions = '''The Python code bellow uses the library sqlalchemy with version 1. Migrate it so that it works with version 2 of sqlalchemy.\n",
        "Make the code compatible with python’s asyncio. Use python’s typing module to add type hints to the code. Your answer must only contain code. Do not explain it. Do not add markdown backticks for code. Do not add extra functionality to the code. Do not remove code that is not being changed. If there’s no need to change the code, answer only with the code itself. The first line of code must have a comment \"### START CODE ###\". The last line of code must have a comment \"### END CODE ###\".\n",
        "\n",
        "'''\n"
      ],
      "metadata": {
        "id": "eLnhEJxfd2Lt"
      },
      "execution_count": 7,
      "outputs": []
    },
    {
      "cell_type": "code",
      "source": [
        "new_zero_shot_migration_instructions = '''The Python code below uses the library SQLAlchemy version 1.4. It's a user repository file. Migrate it so that it works with version 2 of SQLAlchemy. Make the code compatible with Python’s asyncio. Use Python’s typing module to add type hints to the code. Your answer must only contain code. Do not explain it. Do not add markdown backticks for code. Do not add extra functionality to the code. Do not remove code that is not being changed. If there’s no need to change the code, answer only with the code itself. Please try to implement the migrated methods; do not leave necessary methods unimplemented, and do not forget all the necessary imports. The first line of code must have a comment \"### START CODE ###\". The last line of code must have a comment \"### END CODE ###\". Here is the code to migrate:\n",
        "### START CODE ###\n",
        "'''\n"
      ],
      "metadata": {
        "id": "DJ4xhV5DFzZE"
      },
      "execution_count": null,
      "outputs": []
    },
    {
      "cell_type": "code",
      "source": [
        "one_shot_example = \"\"\"Before migration:\n",
        "\n",
        "from typing import List from sqlalchemy.orm import sessionmaker, declarative_base from sqlalchemy import Column, Integer, String, create_engine from sqlalchemy.future import select\n",
        "\n",
        "DATABASE_URL = \"sqlite:///./test.db\"\n",
        "\n",
        "engine = create_engine(DATABASE_URL, echo=True) SessionLocal = sessionmaker(autocommit=False, autoflush=False, bind=engine) Base = declarative_base()\n",
        "\n",
        "class User(Base): tablename = \"users\"\n",
        "\n",
        "mathematica\n",
        "\n",
        "id = Column(Integer, primary_key=True, index=True)\n",
        "name = Column(String, index=True)\n",
        "\n",
        "def get_user_by_id(session: SessionLocal, user_id: int) -> User: with session() as db_session: result = db_session.execute(select(User).filter(User.id == user_id)) return result.scalars().one_or_none()\n",
        "\n",
        "def get_all_users(session: SessionLocal) -> List[User]: with session() as db_session: result = db_session.execute(select(User)) return result.scalars().all()\n",
        "\n",
        "After migration:\n",
        "\n",
        "from typing import List from sqlalchemy.ext.asyncio import AsyncSession, create_async_engine from sqlalchemy.orm import sessionmaker, declarative_base, mapped_column from sqlalchemy import Integer, String from sqlalchemy.future import select\n",
        "\n",
        "DATABASE_URL = \"sqlite+aiosqlite:///./test.db\"\n",
        "\n",
        "engine = create_async_engine(DATABASE_URL, echo=True) SessionLocal = sessionmaker(autocommit=False, autoflush=False, bind=engine, class_=AsyncSession) Base = declarative_base()\n",
        "\n",
        "class User(Base): tablename = \"users\"\n",
        "\n",
        "mathematica\n",
        "\n",
        "id = mapped_column(Integer, primary_key=True, index=True)\n",
        "name = mapped_column(String, index=True)\n",
        "\n",
        "async def get_user_by_id(session: AsyncSession, user_id: int) -> User: async with session() as db_session: result = await db_session.execute(select(User).filter(User.id == user_id)) return result.scalar_one_or_none()\n",
        "\n",
        "async def get_all_users(session: AsyncSession) -> List[User]: async with session() as db_session: result = await db_session.execute(select(User)) return result.scalars().all()\"\"\""
      ],
      "metadata": {
        "id": "Fz7nYqGuRKEX"
      },
      "execution_count": 8,
      "outputs": []
    },
    {
      "cell_type": "code",
      "source": [
        "chain_of_thought_migration_guide = \"\"\"\n",
        "Use the steps below as a guide for the migration. You don’t\n",
        "need to follow them exactly as described, but they should be\n",
        "able to help with the migration:\n",
        "1. Update the used database engine, if any, so that you’re using\n",
        "‘create_async_engine‘ instead of ‘create_engine‘.\n",
        "2. If any tables and their columns are declared, update their\n",
        "declarations so that they use ‘mapped_columns‘ instead of\n",
        "‘schema.Column‘ and ensure they are correctly typed with the\n",
        "Mapped annotation, making sure to import the correct types\n",
        "from the library.\n",
        "3. Ensure that all queries, if any, are updated to use the new 2.0\n",
        "style of querying, such as using ‘select()‘ instead of ‘query()‘.\n",
        "4. Update functions that use ‘sessionmaker‘ to use ‘session‘ instead.\n",
        "5. Update the code to use async functions and await calls where\n",
        "necessary.\n",
        "6. Implement type hinting for all functions and variables and update old type hinting to ensure they are correct.\n",
        "7. Ensure there are no missing import statements.\n",
        "8. Remove any unused imports or variable declarations.\n",
        "9. Make sure the code works.\n",
        "\"\"\"\n"
      ],
      "metadata": {
        "id": "4pA97bMkUYN-"
      },
      "execution_count": 14,
      "outputs": []
    },
    {
      "cell_type": "code",
      "source": [
        "prompt = f\"{migration_instructions}\\n here  is an example of code before and after migration follow it {one_shot_example} , Here is the code to migrate: ### START CODE ###  {code_string}\""
      ],
      "metadata": {
        "id": "lEdD-6S7rUhv"
      },
      "execution_count": 9,
      "outputs": []
    },
    {
      "cell_type": "code",
      "source": [
        "prompt = f\"{migration_instructions}\\n {chain_of_thought_migration_guide} , Here is the code to migrate: ### START CODE ###  : {code_string}\""
      ],
      "metadata": {
        "id": "Adun7MRyUgfR"
      },
      "execution_count": null,
      "outputs": []
    },
    {
      "cell_type": "markdown",
      "source": [
        "Length of the message"
      ],
      "metadata": {
        "id": "4xM5ggLQrQyN"
      }
    },
    {
      "cell_type": "code",
      "source": [
        "len(f\"{prompt}\")"
      ],
      "metadata": {
        "id": "sRXo7b63euK0",
        "outputId": "fdc1d47a-147d-4972-e30d-bc0bf7bf8d95",
        "colab": {
          "base_uri": "https://localhost:8080/"
        }
      },
      "execution_count": 10,
      "outputs": [
        {
          "output_type": "execute_result",
          "data": {
            "text/plain": [
              "8594"
            ]
          },
          "metadata": {},
          "execution_count": 10
        }
      ]
    },
    {
      "cell_type": "code",
      "source": [
        "prompt"
      ],
      "metadata": {
        "id": "1IOL8c_pezqY",
        "outputId": "7623ea02-74aa-414c-f6b8-b2b7d6f58548",
        "colab": {
          "base_uri": "https://localhost:8080/",
          "height": 269
        }
      },
      "execution_count": 11,
      "outputs": [
        {
          "output_type": "execute_result",
          "data": {
            "text/plain": [
              "'The Python code bellow uses the library sqlalchemy with version 1. Migrate it so that it works with version 2 of sqlalchemy.\\nMake the code compatible with python’s asyncio. Use python’s typing module to add type hints to the code. Your answer must only contain code. Do not explain it. Do not add markdown backticks for code. Do not add extra functionality to the code. Do not remove code that is not being changed. If there’s no need to change the code, answer only with the code itself. The first line of code must have a comment \"### START CODE ###\". The last line of code must have a comment \"### END CODE ###\".\\n\\n\\n here  is an example of code before and after migration follow it Before migration:\\n\\nfrom typing import List from sqlalchemy.orm import sessionmaker, declarative_base from sqlalchemy import Column, Integer, String, create_engine from sqlalchemy.future import select\\n\\nDATABASE_URL = \"sqlite:///./test.db\"\\n\\nengine = create_engine(DATABASE_URL, echo=True) SessionLocal = sessionmaker(autocommit=False, autoflush=False, bind=engine) Base = declarative_base()\\n\\nclass User(Base): tablename = \"users\"\\n\\nmathematica\\n\\nid = Column(Integer, primary_key=True, index=True)\\nname = Column(String, index=True)\\n\\ndef get_user_by_id(session: SessionLocal, user_id: int) -> User: with session() as db_session: result = db_session.execute(select(User).filter(User.id == user_id)) return result.scalars().one_or_none()\\n\\ndef get_all_users(session: SessionLocal) -> List[User]: with session() as db_session: result = db_session.execute(select(User)) return result.scalars().all()\\n\\nAfter migration:\\n\\nfrom typing import List from sqlalchemy.ext.asyncio import AsyncSession, create_async_engine from sqlalchemy.orm import sessionmaker, declarative_base, mapped_column from sqlalchemy import Integer, String from sqlalchemy.future import select\\n\\nDATABASE_URL = \"sqlite+aiosqlite:///./test.db\"\\n\\nengine = create_async_engine(DATABASE_URL, echo=True) SessionLocal = sessionmaker(autocommit=False, autoflush=False, bind=engine, class_=AsyncSession) Base = declarative_base()\\n\\nclass User(Base): tablename = \"users\"\\n\\nmathematica\\n\\nid = mapped_column(Integer, primary_key=True, index=True)\\nname = mapped_column(String, index=True)\\n\\nasync def get_user_by_id(session: AsyncSession, user_id: int) -> User: async with session() as db_session: result = await db_session.execute(select(User).filter(User.id == user_id)) return result.scalar_one_or_none()\\n\\nasync def get_all_users(session: AsyncSession) -> List[User]: async with session() as db_session: result = await db_session.execute(select(User)) return result.scalars().all() , Here is the code to migrate: ### START CODE ###  import os\\nfrom functools import lru_cache\\nfrom typing import Optional, Iterator, List\\n\\nfrom pydantic import BaseModel\\nfrom sqlalchemy import create_engine, Column, Integer, String\\nfrom sqlalchemy.ext.declarative import declarative_base\\nfrom sqlalchemy.orm import sessionmaker, Session\\n\\nSQL_BASE = declarative_base()\\n\\n\\n@lru_cache(maxsize=None)\\ndef get_engine(db_string: str):\\n    \"\"\"\\n        Create and cache a SQLAlchemy engine.\\n        \"\"\"\\n    return create_engine(db_string, pool_pre_ping=True)\\n\\n\\nclass UserInDB(SQL_BASE):\\n    \"\"\"\\n      SQLAlchemy model representing a user in the database.\\n      \"\"\"\\n    __tablename__ = \\'user_table\\'\\n\\n    id = Column(Integer, primary_key=True, autoincrement=True)\\n    email = Column(String(length=128), unique=True, nullable=False)\\n    password = Column(String(length=128), nullable=False)\\n    name = Column(String(length=128), nullable=True)\\n    status = Column(String, nullable=True)\\n    country = Column(String(length=128), nullable=True)\\n\\n\\nclass User(BaseModel):\\n    \"\"\"\\n    Pydantic model for user data validation.\\n    \"\"\"\\n    email: str\\n    name: str\\n    country: str\\n    status: str\\n    password: str\\n\\n\\nclass UserFilter(BaseModel):\\n    \"\"\"\\n      Pydantic model for filtering users by criteria.\\n      \"\"\"\\n    limit: Optional[int] = None\\n    by_name: Optional[str] = None\\n    by_country: Optional[str] = None\\n    status: Optional[str] = None\\n\\n\\nclass UserRepository:\\n    \"\"\"\\n      Interface for user repository operations.\\n      \"\"\"\\n\\n    def __enter__(self):\\n        \"\"\"\\n             Enter context for the repository.\\n             \"\"\"\\n        return self\\n\\n\\n\\n    def save(self, user: User) -> None:\\n        \"\"\"\\n              Save a user\\n              \"\"\"\\n        raise NotImplementedError()\\n\\n    def get_by_email(self, email: str) -> Optional[User]:\\n        \"\"\"\\n             Retrieve a user by email .\\n             \"\"\"\\n        raise NotImplementedError()\\n\\n    def get(self, user_filter: UserFilter) -> List[User]:\\n        \"\"\"\\n              Get a list of users based on filtering criteria.\\n              \"\"\"\\n        raise NotImplementedError()\\n\\n\\nclass SQLUserRepository(UserRepository):\\n    \"\"\"\\n     SQL implementation of the UserRepository interface.\\n     \"\"\"\\n\\n    def __init__(self, session):\\n        \"\"\"\\n              Initialize with a SQLAlchemy session.\\n              \"\"\"\\n        self._session: Session = session\\n\\n    def __exit__(self, exc_type, exc_val, exc_traceback: str) -> None:\\n        if any([exc_val, exc_type, exc_traceback]):\\n            self._session.rollback()\\n            return\\n\\n    def get(self, user_filter: UserFilter) -> List[User]:\\n        \"\"\"\\n             Retrieve users from the database based on filters.\\n             \"\"\"\\n        query = self._session.query(UserInDB)\\n\\n        if user_filter.by_name is not None:\\n            query = query.filter(UserInDB.name == user_filter.by_name)\\n        if user_filter.by_country is not None:\\n            query = query.filter(UserInDB.country == user_filter.by_country)\\n        if user_filter.status is not None:\\n            query = query.filter(UserInDB.status == user_filter.status)\\n        if user_filter.limit is not None:\\n            query = query.limit(user_filter.limit)\\n        # Execute the query and retrieve results\\n        users_in_db = query.all()\\n        return [\\n            User(email=user.email, name=user.name,\\n                 country=user.country, status=user.status, password=user.password)\\n            for user in users_in_db]\\n\\n    def get_by_email(self, email: str) -> Optional[User]:\\n        \"\"\"\\n           Get a user by their email from the database.\\n           \"\"\"\\n        user = self._session.query(UserInDB).filter(UserInDB.email == email).first()\\n        if user is not None:\\n            print(f\"returned object : {user.email}\")\\n\\n            return User(email=user.email, name=user.name, country=user.country, status=user.status,\\n                        password=user.password)\\n        return None\\n\\n    def save(self, user: User) -> None:\\n        \"\"\"\\n              Save a user to the database.\\n              \"\"\"\\n        self._session.add(UserInDB(email=user.email, name=user.name,\\n                                   country=user.country, status=user.status,\\n                                   password=user.password))\\n        self._session.commit()\\n\\n\\ndef create_user_repository() -> Iterator[UserRepository]:\\n    \"\"\"\\n     Factory function to create and yield a user repository.\\n     \"\"\"\\n    session = sessionmaker(bind=get_engine(os.getenv(\"DB_STRING\")))()\\n    user_repository = SQLUserRepository(session)\\n\\n    try:\\n        yield user_repository\\n    except Exception:\\n        session.rollback()\\n        raise\\n    finally:\\n        session.close()\\n\\n\\nclass InMemoryUserRepository:\\n    \"\"\"\\n      In-memory implementation of the UserRepository interface(for unit tests).\\n      \"\"\"\\n\\n    # In-memory implementation of interface\\n    def __init__(self):\\n        \"\"\"\\n            Initialize the in-memory user repository.\\n            \"\"\"\\n        self.data = {}\\n\\n    def save(self, user: User) -> None:\\n        \"\"\"\\n               Save a user to the in-memory repository.\\n               \"\"\"\\n        self.data[user.email] = user\\n\\n    def get_by_email(self, email: str) -> Optional[User]:\\n        \"\"\"\\n                Retrieve a user by email from the in-memory repository.\\n                \"\"\"\\n        return self.data.get(email)\\n\\n    def get(self, user_filter: UserFilter) -> List[User]:\\n        \"\"\"\\n               Retrieve users from the in-memory repository based on filters.\\n               \"\"\"\\n        all_matching_users = filter(\\n            lambda user: (not user_filter.status or user_filter.status == user.status)\\n                         and (not user_filter.by_name or user_filter.by_name == user.name)\\n                         and (not user_filter.by_country or user_filter.by_country == user.country),\\n\\n            self.data.values(),\\n        )\\n\\n        return list(all_matching_users)[: user_filter.limit]\\n'"
            ],
            "application/vnd.google.colaboratory.intrinsic+json": {
              "type": "string"
            }
          },
          "metadata": {},
          "execution_count": 11
        }
      ]
    },
    {
      "cell_type": "markdown",
      "source": [
        "Generate response"
      ],
      "metadata": {
        "id": "_RbwtbuOrZBV"
      }
    },
    {
      "cell_type": "code",
      "execution_count": 12,
      "metadata": {
        "id": "j51mcrLD4Y2W",
        "outputId": "92200756-6c4d-4a24-902c-bc0b26a0b390",
        "colab": {
          "base_uri": "https://localhost:8080/",
          "height": 1000
        }
      },
      "outputs": [
        {
          "output_type": "stream",
          "name": "stdout",
          "text": [
            "### START CODE ###\n",
            "import os\n",
            "from functools import lru_cache\n",
            "from typing import Optional, Iterator, List\n",
            "\n",
            "from pydantic import BaseModel\n",
            "from sqlalchemy.ext.asyncio import create_async_engine, AsyncSession, sessionmaker\n",
            "from sqlalchemy.orm import sessionmaker, Session, declarative_base, mapped_column\n",
            "from sqlalchemy import Integer, String\n",
            "from sqlalchemy.future import select\n",
            "\n",
            "SQL_BASE = declarative_base()\n",
            "\n",
            "\n",
            "@lru_cache(maxsize=None)\n",
            "def get_engine(db_string: str):\n",
            "    \"\"\"\n",
            "        Create and cache a SQLAlchemy engine.\n",
            "        \"\"\"\n",
            "    return create_async_engine(db_string, pool_pre_ping=True)\n",
            "\n",
            "\n",
            "class UserInDB(SQL_BASE):\n",
            "    \"\"\"\n",
            "      SQLAlchemy model representing a user in the database.\n",
            "      \"\"\"\n",
            "    __tablename__ = 'user_table'\n",
            "\n",
            "    id = mapped_column(Integer, primary_key=True, autoincrement=True)\n",
            "    email = mapped_column(String(length=128), unique=True, nullable=False)\n",
            "    password = mapped_column(String(length=128), nullable=False)\n",
            "    name = mapped_column(String(length=128), nullable=True)\n",
            "    status = mapped_column(String, nullable=True)\n",
            "    country = mapped_column(String(length=128), nullable=True)\n",
            "\n",
            "\n",
            "class User(BaseModel):\n",
            "    \"\"\"\n",
            "    Pydantic model for user data validation.\n",
            "    \"\"\"\n",
            "    email: str\n",
            "    name: str\n",
            "    country: str\n",
            "    status: str\n",
            "    password: str\n",
            "\n",
            "\n",
            "class UserFilter(BaseModel):\n",
            "    \"\"\"\n",
            "      Pydantic model for filtering users by criteria.\n",
            "      \"\"\"\n",
            "    limit: Optional[int] = None\n",
            "    by_name: Optional[str] = None\n",
            "    by_country: Optional[str] = None\n",
            "    status: Optional[str] = None\n",
            "\n",
            "\n",
            "class UserRepository:\n",
            "    \"\"\"\n",
            "      Interface for user repository operations.\n",
            "      \"\"\"\n",
            "\n",
            "    def __enter__(self):\n",
            "        \"\"\"\n",
            "             Enter context for the repository.\n",
            "             \"\"\"\n",
            "        return self\n",
            "\n",
            "\n",
            "\n",
            "    def save(self, user: User) -> None:\n",
            "        \"\"\"\n",
            "              Save a user\n",
            "              \"\"\"\n",
            "        raise NotImplementedError()\n",
            "\n",
            "    def get_by_email(self, email: str) -> Optional[User]:\n",
            "        \"\"\"\n",
            "             Retrieve a user by email .\n",
            "             \"\"\"\n",
            "        raise NotImplementedError()\n",
            "\n",
            "    def get(self, user_filter: UserFilter) -> List[User]:\n",
            "        \"\"\"\n",
            "              Get a list of users based on filtering criteria.\n",
            "              \"\"\"\n",
            "        raise NotImplementedError()\n",
            "\n",
            "\n",
            "class SQLUserRepository(UserRepository):\n",
            "    \"\"\"\n",
            "     SQL implementation of the UserRepository interface.\n",
            "     \"\"\"\n",
            "\n",
            "    def __init__(self, session: AsyncSession):\n",
            "        \"\"\"\n",
            "              Initialize with a SQLAlchemy session.\n",
            "              \"\"\"\n",
            "        self._session: AsyncSession = session\n",
            "\n",
            "    async def __aenter__(self) -> 'SQLUserRepository':\n",
            "        return self\n",
            "\n",
            "    async def __aexit__(self, exc_type, exc_val, exc_traceback: str) -> None:\n",
            "        if any([exc_val, exc_type, exc_traceback]):\n",
            "            await self._session.rollback()\n",
            "            return\n",
            "\n",
            "    async def get(self, user_filter: UserFilter) -> List[User]:\n",
            "        \"\"\"\n",
            "             Retrieve users from the database based on filters.\n",
            "             \"\"\"\n",
            "        query = self._session.query(UserInDB)\n",
            "\n",
            "        if user_filter.by_name is not None:\n",
            "            query = query.filter(UserInDB.name == user_filter.by_name)\n",
            "        if user_filter.by_country is not None:\n",
            "            query = query.filter(UserInDB.country == user_filter.by_country)\n",
            "        if user_filter.status is not None:\n",
            "            query = query.filter(UserInDB.status == user_filter.status)\n",
            "        if user_filter.limit is not None:\n",
            "            query = query.limit(user_filter.limit)\n",
            "        # Execute the query and retrieve results\n",
            "        users_in_db = await query.all()\n",
            "        return [\n",
            "            User(email=user.email, name=user.name,\n",
            "                 country=user.country, status=user.status, password=user.password)\n",
            "            for user in users_in_db]\n",
            "\n",
            "    async def get_by_email(self, email: str) -> Optional[User]:\n",
            "        \"\"\"\n",
            "           Get a user by their email from the database.\n",
            "           \"\"\"\n",
            "        user = await self._session.query(UserInDB).filter(UserInDB.email == email).first()\n",
            "        if user is not None:\n",
            "            print(f\"returned object : {user.email}\")\n",
            "\n",
            "            return User(email=user.email, name=user.name, country=user.country, status=user.status,\n",
            "                        password=user.password)\n",
            "        return None\n",
            "\n",
            "    async def save(self, user: User) -> None:\n",
            "        \"\"\"\n",
            "              Save a user to the database.\n",
            "              \"\"\"\n",
            "        user_in_db = UserInDB(email=user.email, name=user.name,\n",
            "                                   country=user.country, status=user.status,\n",
            "                                   password=user.password)\n",
            "        self._session.add(user_in_db)\n",
            "        await self._session.commit()\n",
            "\n",
            "\n",
            "def create_user_repository() -> Iterator[UserRepository]:\n",
            "    \"\"\"\n",
            "     Factory function to create and yield a user repository.\n",
            "     \"\"\"\n",
            "    async with create_async_engine(os.getenv(\"DB_STRING\")) as engine:\n",
            "        async_session = sessionmaker(bind=engine, expire_on_commit=False, class_=AsyncSession)()\n",
            "        async with async_session() as session:\n",
            "            user_repository = SQLUserRepository(session)\n",
            "            try:\n",
            "                yield user_repository\n",
            "            except Exception:\n",
            "                await session.rollback()\n",
            "                raise\n",
            "            finally:\n",
            "                await session.close()\n",
            "\n",
            "\n",
            "class InMemoryUserRepository:\n",
            "    \"\"\"\n",
            "      In-memory implementation of the UserRepository interface(for unit tests).\n",
            "      \"\"\"\n",
            "\n",
            "    # In-memory implementation of interface\n",
            "    def __init__(self):\n",
            "        \"\"\"\n",
            "            Initialize the in-memory user repository.\n",
            "            \"\"\"\n",
            "        self.data = {}\n",
            "\n",
            "    def save(self, user: User) -> None:\n",
            "        \"\"\"\n",
            "               Save a user to the in-memory repository.\n",
            "               \"\"\"\n",
            "        self.data[user.email] = user\n",
            "\n",
            "    def get_by_email(self, email: str) -> Optional[User]:\n",
            "        \"\"\"\n",
            "                Retrieve a user by email from the in-memory repository.\n",
            "                \"\"\"\n",
            "        return self.data.get(email)\n",
            "\n",
            "    def get(self, user_filter: UserFilter) -> List[User]:\n",
            "        \"\"\"\n",
            "               Retrieve users from the in-memory repository based on filters.\n",
            "               \"\"\"\n",
            "        all_matching_users = filter(\n",
            "            lambda user: (not user_filter.status or user_filter.status == user.status)\n",
            "                         and (not user_filter.by_name or user_filter.by_name == user.name)\n",
            "                         and (not user_filter.by_country or user_filter.by_country == user.country),\n",
            "\n",
            "            self.data.values(),\n",
            "        )\n",
            "\n",
            "        return list(all_matching_users)[: user_filter.limit]\n",
            "### END CODE ###\n"
          ]
        }
      ],
      "source": [
        "response = model.generate_content(prompt)\n",
        "print(response.text)"
      ]
    },
    {
      "cell_type": "markdown",
      "source": [
        "# write string response back to python file"
      ],
      "metadata": {
        "id": "Q2o9qqb5gh3w"
      }
    },
    {
      "cell_type": "code",
      "source": [
        "import os\n",
        "def write_python_code(file_path: str, code: str) -> None:\n",
        "    # Ensure the directory exists\n",
        "    os.makedirs(os.path.dirname(file_path), exist_ok=True)\n",
        "    with open(file_path, 'w') as file:\n",
        "        file.write(code)\n",
        "# Usage example\n",
        "migrated_file_path = '/content/output/user_repository.py'\n",
        "\n",
        "write_python_code(migrated_file_path, response.text)\n"
      ],
      "metadata": {
        "id": "H0x9bpG8gjWS"
      },
      "execution_count": 13,
      "outputs": []
    },
    {
      "cell_type": "markdown",
      "source": [
        "#Change some generation Hyperparameters"
      ],
      "metadata": {
        "id": "vu5J6-6DrfqB"
      }
    },
    {
      "cell_type": "code",
      "source": [
        "response = model.generate_content(\n",
        "    \"Tell me a story about a magic backpack.\",\n",
        "    generation_config=genai.types.GenerationConfig(\n",
        "        # Only one candidate for now.\n",
        "        candidate_count=1,\n",
        "        stop_sequences=[\"x\"],\n",
        "        max_output_tokens=20,\n",
        "        temperature=1.0,\n",
        "    ),\n",
        ")\n",
        "\n",
        "print(response.text)\n"
      ],
      "metadata": {
        "id": "UEzp3ssTav9x",
        "outputId": "6667c447-5eca-45b3-8453-6e59f7ef047c",
        "colab": {
          "base_uri": "https://localhost:8080/",
          "height": 55
        }
      },
      "execution_count": null,
      "outputs": [
        {
          "output_type": "stream",
          "name": "stdout",
          "text": [
            "Flora, a girl with eyes the color of a stormy sea and a head full of daydreams,\n"
          ]
        }
      ]
    }
  ],
  "metadata": {
    "colab": {
      "provenance": []
    },
    "kernelspec": {
      "display_name": "Python 3",
      "name": "python3"
    }
  },
  "nbformat": 4,
  "nbformat_minor": 0
}